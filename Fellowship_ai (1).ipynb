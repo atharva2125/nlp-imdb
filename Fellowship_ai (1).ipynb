{
  "cells": [
    {
      "cell_type": "code",
      "execution_count": 1,
      "id": "e25a0b3b-2bae-4c2e-b746-0088702553b4",
      "metadata": {
        "id": "e25a0b3b-2bae-4c2e-b746-0088702553b4"
      },
      "outputs": [],
      "source": [
        "import numpy as np\n",
        "import pandas as pd\n",
        "import matplotlib.pyplot as plt\n",
        "import seaborn as sns"
      ]
    },
    {
      "cell_type": "code",
      "execution_count": 2,
      "id": "ae5cbf7c-d06a-4ce7-b317-dcb692342654",
      "metadata": {
        "id": "ae5cbf7c-d06a-4ce7-b317-dcb692342654"
      },
      "outputs": [],
      "source": [
        "from sklearn.model_selection import train_test_split\n",
        "from sklearn.preprocessing import LabelEncoder\n",
        "from sklearn.feature_extraction.text import TfidfVectorizer\n",
        "from sklearn.metrics import classification_report, confusion_matrix, accuracy_score\n",
        "from sklearn.pipeline import Pipeline\n",
        "from sklearn.linear_model import LogisticRegression\n",
        "from sklearn.naive_bayes import MultinomialNB\n",
        "from sklearn.svm import LinearSVC"
      ]
    },
    {
      "cell_type": "code",
      "execution_count": 3,
      "id": "0224ea8c-fe0f-4551-b97f-e32574e737d7",
      "metadata": {
        "id": "0224ea8c-fe0f-4551-b97f-e32574e737d7"
      },
      "outputs": [],
      "source": [
        "# Natural Language Processing libraries\n",
        "import nltk\n",
        "import re\n",
        "import warnings\n",
        "warnings.filterwarnings('ignore')\n",
        "from nltk.corpus import stopwords\n",
        "from nltk.tokenize import word_tokenize\n",
        "from nltk.stem import WordNetLemmatizer"
      ]
    },
    {
      "cell_type": "code",
      "execution_count": 4,
      "id": "3ab4c97a-98a2-4fa6-8073-ed09d9eed0d3",
      "metadata": {
        "id": "3ab4c97a-98a2-4fa6-8073-ed09d9eed0d3"
      },
      "outputs": [],
      "source": [
        "df = pd.read_csv(\"IMDB Dataset.csv\")"
      ]
    },
    {
      "cell_type": "code",
      "execution_count": 5,
      "id": "462ee7b7-2b1d-4c43-ac9c-4971b51153b7",
      "metadata": {
        "colab": {
          "base_uri": "https://localhost:8080/",
          "height": 362
        },
        "id": "462ee7b7-2b1d-4c43-ac9c-4971b51153b7",
        "outputId": "3ab1d107-ce6b-4998-b112-bb689ed5def8"
      },
      "outputs": [
        {
          "data": {
            "text/html": [
              "<div>\n",
              "<style scoped>\n",
              "    .dataframe tbody tr th:only-of-type {\n",
              "        vertical-align: middle;\n",
              "    }\n",
              "\n",
              "    .dataframe tbody tr th {\n",
              "        vertical-align: top;\n",
              "    }\n",
              "\n",
              "    .dataframe thead th {\n",
              "        text-align: right;\n",
              "    }\n",
              "</style>\n",
              "<table border=\"1\" class=\"dataframe\">\n",
              "  <thead>\n",
              "    <tr style=\"text-align: right;\">\n",
              "      <th></th>\n",
              "      <th>review</th>\n",
              "      <th>sentiment</th>\n",
              "    </tr>\n",
              "  </thead>\n",
              "  <tbody>\n",
              "    <tr>\n",
              "      <th>0</th>\n",
              "      <td>One of the other reviewers has mentioned that ...</td>\n",
              "      <td>positive</td>\n",
              "    </tr>\n",
              "    <tr>\n",
              "      <th>1</th>\n",
              "      <td>A wonderful little production. &lt;br /&gt;&lt;br /&gt;The...</td>\n",
              "      <td>positive</td>\n",
              "    </tr>\n",
              "    <tr>\n",
              "      <th>2</th>\n",
              "      <td>I thought this was a wonderful way to spend ti...</td>\n",
              "      <td>positive</td>\n",
              "    </tr>\n",
              "    <tr>\n",
              "      <th>3</th>\n",
              "      <td>Basically there's a family where a little boy ...</td>\n",
              "      <td>negative</td>\n",
              "    </tr>\n",
              "    <tr>\n",
              "      <th>4</th>\n",
              "      <td>Petter Mattei's \"Love in the Time of Money\" is...</td>\n",
              "      <td>positive</td>\n",
              "    </tr>\n",
              "    <tr>\n",
              "      <th>5</th>\n",
              "      <td>Probably my all-time favorite movie, a story o...</td>\n",
              "      <td>positive</td>\n",
              "    </tr>\n",
              "    <tr>\n",
              "      <th>6</th>\n",
              "      <td>I sure would like to see a resurrection of a u...</td>\n",
              "      <td>positive</td>\n",
              "    </tr>\n",
              "    <tr>\n",
              "      <th>7</th>\n",
              "      <td>This show was an amazing, fresh &amp; innovative i...</td>\n",
              "      <td>negative</td>\n",
              "    </tr>\n",
              "    <tr>\n",
              "      <th>8</th>\n",
              "      <td>Encouraged by the positive comments about this...</td>\n",
              "      <td>negative</td>\n",
              "    </tr>\n",
              "    <tr>\n",
              "      <th>9</th>\n",
              "      <td>If you like original gut wrenching laughter yo...</td>\n",
              "      <td>positive</td>\n",
              "    </tr>\n",
              "  </tbody>\n",
              "</table>\n",
              "</div>"
            ],
            "text/plain": [
              "                                              review sentiment\n",
              "0  One of the other reviewers has mentioned that ...  positive\n",
              "1  A wonderful little production. <br /><br />The...  positive\n",
              "2  I thought this was a wonderful way to spend ti...  positive\n",
              "3  Basically there's a family where a little boy ...  negative\n",
              "4  Petter Mattei's \"Love in the Time of Money\" is...  positive\n",
              "5  Probably my all-time favorite movie, a story o...  positive\n",
              "6  I sure would like to see a resurrection of a u...  positive\n",
              "7  This show was an amazing, fresh & innovative i...  negative\n",
              "8  Encouraged by the positive comments about this...  negative\n",
              "9  If you like original gut wrenching laughter yo...  positive"
            ]
          },
          "execution_count": 5,
          "metadata": {},
          "output_type": "execute_result"
        }
      ],
      "source": [
        "df.head(10)\n"
      ]
    },
    {
      "cell_type": "code",
      "execution_count": 6,
      "id": "ae478359-085d-4ee3-a0c5-bd30caa5308b",
      "metadata": {
        "colab": {
          "base_uri": "https://localhost:8080/",
          "height": 362
        },
        "id": "ae478359-085d-4ee3-a0c5-bd30caa5308b",
        "outputId": "fcc82b48-67d9-49fe-edec-56865878f367"
      },
      "outputs": [
        {
          "data": {
            "text/html": [
              "<div>\n",
              "<style scoped>\n",
              "    .dataframe tbody tr th:only-of-type {\n",
              "        vertical-align: middle;\n",
              "    }\n",
              "\n",
              "    .dataframe tbody tr th {\n",
              "        vertical-align: top;\n",
              "    }\n",
              "\n",
              "    .dataframe thead th {\n",
              "        text-align: right;\n",
              "    }\n",
              "</style>\n",
              "<table border=\"1\" class=\"dataframe\">\n",
              "  <thead>\n",
              "    <tr style=\"text-align: right;\">\n",
              "      <th></th>\n",
              "      <th>review</th>\n",
              "      <th>sentiment</th>\n",
              "    </tr>\n",
              "  </thead>\n",
              "  <tbody>\n",
              "    <tr>\n",
              "      <th>49990</th>\n",
              "      <td>Lame, lame, lame!!! A 90-minute cringe-fest th...</td>\n",
              "      <td>negative</td>\n",
              "    </tr>\n",
              "    <tr>\n",
              "      <th>49991</th>\n",
              "      <td>Les Visiteurs, the first movie about the medie...</td>\n",
              "      <td>negative</td>\n",
              "    </tr>\n",
              "    <tr>\n",
              "      <th>49992</th>\n",
              "      <td>John Garfield plays a Marine who is blinded by...</td>\n",
              "      <td>positive</td>\n",
              "    </tr>\n",
              "    <tr>\n",
              "      <th>49993</th>\n",
              "      <td>Robert Colomb has two full-time jobs. He's kno...</td>\n",
              "      <td>negative</td>\n",
              "    </tr>\n",
              "    <tr>\n",
              "      <th>49994</th>\n",
              "      <td>This is your typical junk comedy.&lt;br /&gt;&lt;br /&gt;T...</td>\n",
              "      <td>negative</td>\n",
              "    </tr>\n",
              "    <tr>\n",
              "      <th>49995</th>\n",
              "      <td>I thought this movie did a down right good job...</td>\n",
              "      <td>positive</td>\n",
              "    </tr>\n",
              "    <tr>\n",
              "      <th>49996</th>\n",
              "      <td>Bad plot, bad dialogue, bad acting, idiotic di...</td>\n",
              "      <td>negative</td>\n",
              "    </tr>\n",
              "    <tr>\n",
              "      <th>49997</th>\n",
              "      <td>I am a Catholic taught in parochial elementary...</td>\n",
              "      <td>negative</td>\n",
              "    </tr>\n",
              "    <tr>\n",
              "      <th>49998</th>\n",
              "      <td>I'm going to have to disagree with the previou...</td>\n",
              "      <td>negative</td>\n",
              "    </tr>\n",
              "    <tr>\n",
              "      <th>49999</th>\n",
              "      <td>No one expects the Star Trek movies to be high...</td>\n",
              "      <td>negative</td>\n",
              "    </tr>\n",
              "  </tbody>\n",
              "</table>\n",
              "</div>"
            ],
            "text/plain": [
              "                                                  review sentiment\n",
              "49990  Lame, lame, lame!!! A 90-minute cringe-fest th...  negative\n",
              "49991  Les Visiteurs, the first movie about the medie...  negative\n",
              "49992  John Garfield plays a Marine who is blinded by...  positive\n",
              "49993  Robert Colomb has two full-time jobs. He's kno...  negative\n",
              "49994  This is your typical junk comedy.<br /><br />T...  negative\n",
              "49995  I thought this movie did a down right good job...  positive\n",
              "49996  Bad plot, bad dialogue, bad acting, idiotic di...  negative\n",
              "49997  I am a Catholic taught in parochial elementary...  negative\n",
              "49998  I'm going to have to disagree with the previou...  negative\n",
              "49999  No one expects the Star Trek movies to be high...  negative"
            ]
          },
          "execution_count": 6,
          "metadata": {},
          "output_type": "execute_result"
        }
      ],
      "source": [
        "df.tail(10)\n"
      ]
    },
    {
      "cell_type": "code",
      "execution_count": 7,
      "id": "d606e2de-b10b-43c6-884f-cf5fe6bdb6dc",
      "metadata": {
        "colab": {
          "base_uri": "https://localhost:8080/",
          "height": 174
        },
        "id": "d606e2de-b10b-43c6-884f-cf5fe6bdb6dc",
        "outputId": "5c99cd1f-3700-4d57-f429-9f028c9ae94a"
      },
      "outputs": [
        {
          "data": {
            "text/html": [
              "<div>\n",
              "<style scoped>\n",
              "    .dataframe tbody tr th:only-of-type {\n",
              "        vertical-align: middle;\n",
              "    }\n",
              "\n",
              "    .dataframe tbody tr th {\n",
              "        vertical-align: top;\n",
              "    }\n",
              "\n",
              "    .dataframe thead th {\n",
              "        text-align: right;\n",
              "    }\n",
              "</style>\n",
              "<table border=\"1\" class=\"dataframe\">\n",
              "  <thead>\n",
              "    <tr style=\"text-align: right;\">\n",
              "      <th></th>\n",
              "      <th>review</th>\n",
              "      <th>sentiment</th>\n",
              "    </tr>\n",
              "  </thead>\n",
              "  <tbody>\n",
              "    <tr>\n",
              "      <th>count</th>\n",
              "      <td>50000</td>\n",
              "      <td>50000</td>\n",
              "    </tr>\n",
              "    <tr>\n",
              "      <th>unique</th>\n",
              "      <td>49582</td>\n",
              "      <td>2</td>\n",
              "    </tr>\n",
              "    <tr>\n",
              "      <th>top</th>\n",
              "      <td>Loved today's show!!! It was a variety and not...</td>\n",
              "      <td>positive</td>\n",
              "    </tr>\n",
              "    <tr>\n",
              "      <th>freq</th>\n",
              "      <td>5</td>\n",
              "      <td>25000</td>\n",
              "    </tr>\n",
              "  </tbody>\n",
              "</table>\n",
              "</div>"
            ],
            "text/plain": [
              "                                                   review sentiment\n",
              "count                                               50000     50000\n",
              "unique                                              49582         2\n",
              "top     Loved today's show!!! It was a variety and not...  positive\n",
              "freq                                                    5     25000"
            ]
          },
          "execution_count": 7,
          "metadata": {},
          "output_type": "execute_result"
        }
      ],
      "source": [
        "df.describe()"
      ]
    },
    {
      "cell_type": "code",
      "execution_count": 8,
      "id": "12e5567d-c919-497a-821e-31f2fa9ce2c0",
      "metadata": {
        "colab": {
          "base_uri": "https://localhost:8080/"
        },
        "id": "12e5567d-c919-497a-821e-31f2fa9ce2c0",
        "outputId": "f5ab6f78-8a0a-4160-d3ea-27bec7df5135"
      },
      "outputs": [
        {
          "data": {
            "text/plain": [
              "(50000, 2)"
            ]
          },
          "execution_count": 8,
          "metadata": {},
          "output_type": "execute_result"
        }
      ],
      "source": [
        "df.shape"
      ]
    },
    {
      "cell_type": "code",
      "execution_count": 9,
      "id": "feb47fea-cf79-422e-9fb1-2fde2528168f",
      "metadata": {
        "colab": {
          "base_uri": "https://localhost:8080/"
        },
        "id": "feb47fea-cf79-422e-9fb1-2fde2528168f",
        "outputId": "975066ee-3495-457a-ea14-0396cddd18b0"
      },
      "outputs": [
        {
          "name": "stdout",
          "output_type": "stream",
          "text": [
            "<class 'pandas.core.frame.DataFrame'>\n",
            "RangeIndex: 50000 entries, 0 to 49999\n",
            "Data columns (total 2 columns):\n",
            " #   Column     Non-Null Count  Dtype \n",
            "---  ------     --------------  ----- \n",
            " 0   review     50000 non-null  object\n",
            " 1   sentiment  50000 non-null  object\n",
            "dtypes: object(2)\n",
            "memory usage: 781.4+ KB\n"
          ]
        }
      ],
      "source": [
        "df.info()"
      ]
    },
    {
      "cell_type": "code",
      "execution_count": 10,
      "id": "0f082891-1c75-4e0c-b852-42229b426e18",
      "metadata": {
        "colab": {
          "base_uri": "https://localhost:8080/",
          "height": 178
        },
        "id": "0f082891-1c75-4e0c-b852-42229b426e18",
        "outputId": "16755f93-8c3c-48e8-ac63-84c808c6b0ce"
      },
      "outputs": [
        {
          "data": {
            "text/plain": [
              "sentiment\n",
              "positive    25000\n",
              "negative    25000\n",
              "Name: count, dtype: int64"
            ]
          },
          "execution_count": 10,
          "metadata": {},
          "output_type": "execute_result"
        }
      ],
      "source": [
        "#distribution of sentiments\n",
        "df[\"sentiment\"].value_counts()"
      ]
    },
    {
      "cell_type": "code",
      "execution_count": 11,
      "id": "819c08ec-db7f-428c-8154-0d4fd4dd7781",
      "metadata": {
        "colab": {
          "base_uri": "https://localhost:8080/",
          "height": 178
        },
        "id": "819c08ec-db7f-428c-8154-0d4fd4dd7781",
        "outputId": "7f4a6939-cbac-4a24-beed-9840c7d4b865"
      },
      "outputs": [
        {
          "data": {
            "text/plain": [
              "sentiment\n",
              "positive    0.5\n",
              "negative    0.5\n",
              "Name: proportion, dtype: float64"
            ]
          },
          "execution_count": 11,
          "metadata": {},
          "output_type": "execute_result"
        }
      ],
      "source": [
        "#distirbution in terms of percentage\n",
        "df[\"sentiment\"].value_counts(normalize='True')"
      ]
    },
    {
      "cell_type": "code",
      "execution_count": 12,
      "id": "5f842c0f-b927-404e-9e9c-32ddff99342d",
      "metadata": {
        "colab": {
          "base_uri": "https://localhost:8080/",
          "height": 485
        },
        "id": "5f842c0f-b927-404e-9e9c-32ddff99342d",
        "outputId": "03fd692c-779c-4fc1-fb93-1cce3de86922"
      },
      "outputs": [
        {
          "data": {
            "image/png": "[encoded data removed]",
            "text/plain": [
              "<Figure size 640x480 with 1 Axes>"
            ]
          },
          "metadata": {},
          "output_type": "display_data"
        }
      ],
      "source": [
        "sns.countplot(df.sentiment)\n",
        "plt.title('overview of sentiments', fontsize = 25, color = 'purple')\n",
        "plt.show()"
      ]
    },
    {
      "cell_type": "code",
      "execution_count": 13,
      "id": "9d479dd1-5665-4c12-ac91-dbdfd7b53029",
      "metadata": {
        "colab": {
          "base_uri": "https://localhost:8080/"
        },
        "id": "9d479dd1-5665-4c12-ac91-dbdfd7b53029",
        "outputId": "e40fdc05-123d-4d3b-c3c7-b125b5d9e729"
      },
      "outputs": [
        {
          "name": "stderr",
          "output_type": "stream",
          "text": [
            "[nltk_data] Downloading package punkt to C:\\Users\\Atharva\n",
            "[nltk_data]     Prabhu\\AppData\\Roaming\\nltk_data...\n",
            "[nltk_data]   Unzipping tokenizers\\punkt.zip.\n",
            "[nltk_data] Downloading package stopwords to C:\\Users\\Atharva\n",
            "[nltk_data]     Prabhu\\AppData\\Roaming\\nltk_data...\n",
            "[nltk_data]   Unzipping corpora\\stopwords.zip.\n",
            "[nltk_data] Downloading package wordnet to C:\\Users\\Atharva\n",
            "[nltk_data]     Prabhu\\AppData\\Roaming\\nltk_data...\n",
            "[nltk_data] Downloading package averaged_perceptron_tagger to\n",
            "[nltk_data]     C:\\Users\\Atharva Prabhu\\AppData\\Roaming\\nltk_data...\n"
          ]
        },
        {
          "name": "stdout",
          "output_type": "stream",
          "text": [
            "NLTK resources downloaded successfully!\n"
          ]
        },
        {
          "name": "stderr",
          "output_type": "stream",
          "text": [
            "[nltk_data]   Unzipping taggers\\averaged_perceptron_tagger.zip.\n"
          ]
        }
      ],
      "source": [
        "# NLTK resources\n",
        "#used to tokenise, stopwords, and understanding meanings of words,also assigns grammatical parts to the text tokens such as noun, verbs etc\n",
        "nltk.download(['punkt', 'stopwords', 'wordnet', 'averaged_perceptron_tagger'])\n",
        "\n",
        "print(\"NLTK resources downloaded successfully!\")"
      ]
    },
    {
      "cell_type": "code",
      "execution_count": 14,
      "id": "68302cb7-af37-4190-bfe7-328809297d03",
      "metadata": {
        "id": "68302cb7-af37-4190-bfe7-328809297d03"
      },
      "outputs": [],
      "source": [
        "# Text Preprocessing\n",
        "def preprocess_reviews(df):\n",
        "\n",
        "    # Initialize stop words and lemmatizer\n",
        "    stop_words = set(stopwords.words('english'))\n",
        "    lemmatizer = WordNetLemmatizer()\n",
        "\n",
        "    def clean_text(text):\n",
        "        # Convert to lowercase\n",
        "        text = text.lower()\n",
        "\n",
        "        # Remove special characters and numbers\n",
        "        text = re.sub(r'[^a-zA-Z\\s]', '', text)\n",
        "\n",
        "        # Tokenize\n",
        "        tokens = text.split()\n",
        "\n",
        "        # Remove stopwords and lemmatize\n",
        "        cleaned_tokens = [\n",
        "            lemmatizer.lemmatize(token)\n",
        "            for token in tokens\n",
        "            if token not in stop_words\n",
        "        ]\n",
        "\n",
        "        return ' '.join(cleaned_tokens)\n",
        "\n",
        "    # Apply preprocessing\n",
        "    df['clean_review'] = df['review'].apply(clean_text)\n",
        "\n",
        "\n",
        "    return df\n",
        "\n",
        "# calling the function\n",
        "df = preprocess_reviews(df)"
      ]
    },
    {
      "cell_type": "code",
      "execution_count": 15,
      "id": "4e895870-ea35-4630-83af-58d1eb37ea69",
      "metadata": {
        "colab": {
          "base_uri": "https://localhost:8080/",
          "height": 536
        },
        "id": "4e895870-ea35-4630-83af-58d1eb37ea69",
        "outputId": "3907da16-b6ec-4031-9e34-266cdf645a16"
      },
      "outputs": [
        {
          "data": {
            "text/html": [
              "<div>\n",
              "<style scoped>\n",
              "    .dataframe tbody tr th:only-of-type {\n",
              "        vertical-align: middle;\n",
              "    }\n",
              "\n",
              "    .dataframe tbody tr th {\n",
              "        vertical-align: top;\n",
              "    }\n",
              "\n",
              "    .dataframe thead th {\n",
              "        text-align: right;\n",
              "    }\n",
              "</style>\n",
              "<table border=\"1\" class=\"dataframe\">\n",
              "  <thead>\n",
              "    <tr style=\"text-align: right;\">\n",
              "      <th></th>\n",
              "      <th>review</th>\n",
              "      <th>sentiment</th>\n",
              "      <th>clean_review</th>\n",
              "    </tr>\n",
              "  </thead>\n",
              "  <tbody>\n",
              "    <tr>\n",
              "      <th>0</th>\n",
              "      <td>One of the other reviewers has mentioned that ...</td>\n",
              "      <td>positive</td>\n",
              "      <td>one reviewer mentioned watching oz episode you...</td>\n",
              "    </tr>\n",
              "    <tr>\n",
              "      <th>1</th>\n",
              "      <td>A wonderful little production. &lt;br /&gt;&lt;br /&gt;The...</td>\n",
              "      <td>positive</td>\n",
              "      <td>wonderful little production br br filming tech...</td>\n",
              "    </tr>\n",
              "    <tr>\n",
              "      <th>2</th>\n",
              "      <td>I thought this was a wonderful way to spend ti...</td>\n",
              "      <td>positive</td>\n",
              "      <td>thought wonderful way spend time hot summer we...</td>\n",
              "    </tr>\n",
              "    <tr>\n",
              "      <th>3</th>\n",
              "      <td>Basically there's a family where a little boy ...</td>\n",
              "      <td>negative</td>\n",
              "      <td>basically there family little boy jake think t...</td>\n",
              "    </tr>\n",
              "    <tr>\n",
              "      <th>4</th>\n",
              "      <td>Petter Mattei's \"Love in the Time of Money\" is...</td>\n",
              "      <td>positive</td>\n",
              "      <td>petter matteis love time money visually stunni...</td>\n",
              "    </tr>\n",
              "    <tr>\n",
              "      <th>5</th>\n",
              "      <td>Probably my all-time favorite movie, a story o...</td>\n",
              "      <td>positive</td>\n",
              "      <td>probably alltime favorite movie story selfless...</td>\n",
              "    </tr>\n",
              "    <tr>\n",
              "      <th>6</th>\n",
              "      <td>I sure would like to see a resurrection of a u...</td>\n",
              "      <td>positive</td>\n",
              "      <td>sure would like see resurrection dated seahunt...</td>\n",
              "    </tr>\n",
              "    <tr>\n",
              "      <th>7</th>\n",
              "      <td>This show was an amazing, fresh &amp; innovative i...</td>\n",
              "      <td>negative</td>\n",
              "      <td>show amazing fresh innovative idea first aired...</td>\n",
              "    </tr>\n",
              "    <tr>\n",
              "      <th>8</th>\n",
              "      <td>Encouraged by the positive comments about this...</td>\n",
              "      <td>negative</td>\n",
              "      <td>encouraged positive comment film looking forwa...</td>\n",
              "    </tr>\n",
              "    <tr>\n",
              "      <th>9</th>\n",
              "      <td>If you like original gut wrenching laughter yo...</td>\n",
              "      <td>positive</td>\n",
              "      <td>like original gut wrenching laughter like movi...</td>\n",
              "    </tr>\n",
              "  </tbody>\n",
              "</table>\n",
              "</div>"
            ],
            "text/plain": [
              "                                              review sentiment  \\\n",
              "0  One of the other reviewers has mentioned that ...  positive   \n",
              "1  A wonderful little production. <br /><br />The...  positive   \n",
              "2  I thought this was a wonderful way to spend ti...  positive   \n",
              "3  Basically there's a family where a little boy ...  negative   \n",
              "4  Petter Mattei's \"Love in the Time of Money\" is...  positive   \n",
              "5  Probably my all-time favorite movie, a story o...  positive   \n",
              "6  I sure would like to see a resurrection of a u...  positive   \n",
              "7  This show was an amazing, fresh & innovative i...  negative   \n",
              "8  Encouraged by the positive comments about this...  negative   \n",
              "9  If you like original gut wrenching laughter yo...  positive   \n",
              "\n",
              "                                        clean_review  \n",
              "0  one reviewer mentioned watching oz episode you...  \n",
              "1  wonderful little production br br filming tech...  \n",
              "2  thought wonderful way spend time hot summer we...  \n",
              "3  basically there family little boy jake think t...  \n",
              "4  petter matteis love time money visually stunni...  \n",
              "5  probably alltime favorite movie story selfless...  \n",
              "6  sure would like see resurrection dated seahunt...  \n",
              "7  show amazing fresh innovative idea first aired...  \n",
              "8  encouraged positive comment film looking forwa...  \n",
              "9  like original gut wrenching laughter like movi...  "
            ]
          },
          "execution_count": 15,
          "metadata": {},
          "output_type": "execute_result"
        }
      ],
      "source": [
        "#stop words are removed etc\n",
        "df.head(10)"
      ]
    },
    {
      "cell_type": "code",
      "execution_count": 16,
      "id": "4f310801-ea07-4130-8eae-a27cd907c59a",
      "metadata": {
        "colab": {
          "base_uri": "https://localhost:8080/"
        },
        "id": "4f310801-ea07-4130-8eae-a27cd907c59a",
        "outputId": "21b82578-b9a1-405b-8b07-0dccf07474c3"
      },
      "outputs": [
        {
          "name": "stdout",
          "output_type": "stream",
          "text": [
            "Data Preparation Complete:\n",
            "Training Samples: 40000\n",
            "Testing Samples: 10000\n"
          ]
        }
      ],
      "source": [
        "#Prepare Data for Machine Learning\n",
        "\n",
        "def prepare_ml_data(df, test_size=0.2):\n",
        "    # Encode labels\n",
        "    label_encoder = LabelEncoder()\n",
        "    df['sentiment_encoded'] = label_encoder.fit_transform(df['sentiment'])\n",
        "\n",
        "    # Split data\n",
        "    X_train, X_test, y_train, y_test = train_test_split(\n",
        "        df['clean_review'],\n",
        "        df['sentiment_encoded'],\n",
        "        test_size=test_size,\n",
        "        random_state=42\n",
        "    )\n",
        "\n",
        "    print(\"Data Preparation Complete:\")\n",
        "    print(f\"Training Samples: {len(X_train)}\")\n",
        "    print(f\"Testing Samples: {len(X_test)}\")\n",
        "\n",
        "    return X_train, X_test, y_train, y_test, label_encoder\n",
        "\n",
        "X_train, X_test, y_train, y_test, label_encoder = prepare_ml_data(df)"
      ]
    },
    {
      "cell_type": "code",
      "execution_count": 17,
      "id": "b0f2d151-1bbc-4cb2-b736-b1c67dbe929e",
      "metadata": {
        "colab": {
          "base_uri": "https://localhost:8080/"
        },
        "id": "b0f2d151-1bbc-4cb2-b736-b1c67dbe929e",
        "outputId": "8cfecd06-4307-40c7-81ee-59c609e9aff1"
      },
      "outputs": [
        {
          "name": "stdout",
          "output_type": "stream",
          "text": [
            "\n",
            "Logistic Regression Performance:\n",
            "              precision    recall  f1-score   support\n",
            "\n",
            "           0       0.89      0.87      0.88      4961\n",
            "           1       0.88      0.90      0.89      5039\n",
            "\n",
            "    accuracy                           0.88     10000\n",
            "   macro avg       0.88      0.88      0.88     10000\n",
            "weighted avg       0.88      0.88      0.88     10000\n",
            "\n",
            "\n",
            "Naive Bayes Performance:\n",
            "              precision    recall  f1-score   support\n",
            "\n",
            "           0       0.85      0.85      0.85      4961\n",
            "           1       0.85      0.86      0.85      5039\n",
            "\n",
            "    accuracy                           0.85     10000\n",
            "   macro avg       0.85      0.85      0.85     10000\n",
            "weighted avg       0.85      0.85      0.85     10000\n",
            "\n",
            "\n",
            "Support Vector Machine Performance:\n",
            "              precision    recall  f1-score   support\n",
            "\n",
            "           0       0.89      0.87      0.88      4961\n",
            "           1       0.87      0.89      0.88      5039\n",
            "\n",
            "    accuracy                           0.88     10000\n",
            "   macro avg       0.88      0.88      0.88     10000\n",
            "weighted avg       0.88      0.88      0.88     10000\n",
            "\n"
          ]
        }
      ],
      "source": [
        "# Cell 6: Train Models\n",
        "def train_sentiment_models(X_train, X_test, y_train, y_test):\n",
        "    # Define models\n",
        "    models = {\n",
        "        'Logistic Regression': LogisticRegression(max_iter=1000),\n",
        "        'Naive Bayes': MultinomialNB(),\n",
        "        'Support Vector Machine': LinearSVC(max_iter=10000)\n",
        "    }\n",
        "\n",
        "    # Store results\n",
        "    results = {}\n",
        "\n",
        "    for name, model in models.items():\n",
        "        # Create pipeline\n",
        "        pipeline = Pipeline([\n",
        "            ('vectorizer', TfidfVectorizer(max_features=5000)),\n",
        "            ('classifier', model)\n",
        "        ])\n",
        "\n",
        "        # Train model\n",
        "        pipeline.fit(X_train, y_train)\n",
        "\n",
        "        # Predict\n",
        "        y_pred = pipeline.predict(X_test)\n",
        "\n",
        "        # Store results\n",
        "        results[name] = {\n",
        "            'model': pipeline,\n",
        "            'classification_report': classification_report(y_test, y_pred),\n",
        "            'confusion_matrix': confusion_matrix(y_test, y_pred),\n",
        "            'accuracy': accuracy_score(y_test, y_pred)\n",
        "        }\n",
        "\n",
        "        # Print results\n",
        "        print(f\"\\n{name} Performance:\")\n",
        "        print(results[name]['classification_report'])\n",
        "\n",
        "    return results\n",
        "\n",
        "# calling the function\n",
        "model_results = train_sentiment_models(X_train, X_test, y_train, y_test)"
      ]
    },
    {
      "cell_type": "code",
      "execution_count": 18,
      "id": "6ae95dde-3088-4648-a9b4-37ccf480d356",
      "metadata": {
        "colab": {
          "base_uri": "https://localhost:8080/",
          "height": 225
        },
        "id": "6ae95dde-3088-4648-a9b4-37ccf480d356",
        "outputId": "bbbc4c5d-8f64-4be0-fe1a-21f6ac63b3fd"
      },
      "outputs": [
        {
          "data": {
            "image/png": "[encoded data removed]",
            "text/plain": [
              "<Figure size 1500x500 with 6 Axes>"
            ]
          },
          "metadata": {},
          "output_type": "display_data"
        }
      ],
      "source": [
        "# Visualize Results\n",
        "def visualize_model_performance(results):\n",
        "\n",
        "    plt.figure(figsize=(15, 5))\n",
        "\n",
        "    for i, (model_name, model_data) in enumerate(results.items(), 1):\n",
        "        plt.subplot(1, 3, i)\n",
        "        sns.heatmap(\n",
        "            model_data['confusion_matrix'],\n",
        "            annot=True,\n",
        "            fmt='d',\n",
        "            cmap='Blues'\n",
        "        )\n",
        "        plt.title(f'{model_name}\\nAccuracy: {model_data[\"accuracy\"]:.2%}')\n",
        "\n",
        "    plt.tight_layout()\n",
        "    plt.show()\n",
        "\n",
        "# calling the function\n",
        "visualize_model_performance(model_results)"
      ]
    },
    {
      "cell_type": "code",
      "execution_count": 19,
      "id": "2e8cb126-2ab8-4600-9773-70ce5fef116f",
      "metadata": {
        "colab": {
          "base_uri": "https://localhost:8080/"
        },
        "id": "2e8cb126-2ab8-4600-9773-70ce5fef116f",
        "outputId": "56f233c1-7f37-4ed9-a3e7-4cb640e14626"
      },
      "outputs": [
        {
          "name": "stdout",
          "output_type": "stream",
          "text": [
            "\n",
            "Logistic Regression Cross-Validation:\n",
            "Mean Accuracy: 88.60%\n",
            "Standard Deviation: 0.18%\n",
            "\n",
            "Naive Bayes Cross-Validation:\n",
            "Mean Accuracy: 85.27%\n",
            "Standard Deviation: 0.35%\n",
            "\n",
            "Support Vector Machine Cross-Validation:\n",
            "Mean Accuracy: 87.96%\n",
            "Standard Deviation: 0.14%\n"
          ]
        }
      ],
      "source": [
        "# Cross-Validation\n",
        "# Data processing and ML libraries\n",
        "from sklearn.model_selection import (\n",
        "    train_test_split,\n",
        "    cross_val_score,\n",
        "    StratifiedKFold\n",
        ")\n",
        "from sklearn.preprocessing import LabelEncoder\n",
        "from sklearn.feature_extraction.text import TfidfVectorizer\n",
        "from sklearn.metrics import classification_report, confusion_matrix, accuracy_score\n",
        "from sklearn.pipeline import Pipeline\n",
        "from sklearn.linear_model import LogisticRegression\n",
        "from sklearn.naive_bayes import MultinomialNB\n",
        "from sklearn.svm import LinearSVC\n",
        "\n",
        "def perform_cross_validation(df, cv=5):\n",
        "\n",
        "    # Prepare models\n",
        "    models = {\n",
        "        'Logistic Regression': LogisticRegression(max_iter=1000),\n",
        "        'Naive Bayes': MultinomialNB(),\n",
        "        'Support Vector Machine': LinearSVC(max_iter=10000)\n",
        "    }\n",
        "\n",
        "    cv_results = {}\n",
        "\n",
        "    # Stratified K-Fold\n",
        "    stratified_cv = StratifiedKFold(n_splits=cv, shuffle=True, random_state=42)\n",
        "\n",
        "    for name, model in models.items():\n",
        "        # Create pipeline\n",
        "        pipeline = Pipeline([\n",
        "            ('vectorizer', TfidfVectorizer(max_features=5000)),\n",
        "            ('classifier', model)\n",
        "        ])\n",
        "\n",
        "        # Perform cross-validation\n",
        "        scores = cross_val_score(\n",
        "            pipeline,\n",
        "            df['clean_review'],\n",
        "            df['sentiment_encoded'],\n",
        "            cv=stratified_cv,\n",
        "            scoring='accuracy'\n",
        "        )\n",
        "\n",
        "        # Store results\n",
        "        cv_results[name] = {\n",
        "            'mean_accuracy': scores.mean(),\n",
        "            'std_accuracy': scores.std(),\n",
        "            'scores': scores\n",
        "        }\n",
        "\n",
        "        # Print results\n",
        "        print(f\"\\n{name} Cross-Validation:\")\n",
        "        print(f\"Mean Accuracy: {scores.mean():.2%}\")\n",
        "        print(f\"Standard Deviation: {scores.std():.2%}\")\n",
        "\n",
        "    return cv_results\n",
        "\n",
        "cross_validation_results = perform_cross_validation(df)"
      ]
    },
    {
      "cell_type": "code",
      "execution_count": 20,
      "id": "bdb488c1-0991-46c5-82bb-e51010465073",
      "metadata": {
        "id": "bdb488c1-0991-46c5-82bb-e51010465073"
      },
      "outputs": [],
      "source": [
        "# Sentiment Prediction\n",
        "def predict_sentiment(text, best_model, label_encoder):\n",
        "\n",
        "    # Preprocess text (use the same preprocessing as in Cell 4)\n",
        "    stop_words = set(stopwords.words('english'))\n",
        "    lemmatizer = WordNetLemmatizer()\n",
        "\n",
        "    # Clean text\n",
        "    text = text.lower()\n",
        "    text = re.sub(r'[^a-zA-Z\\s]', '', text)\n",
        "    tokens = text.split()\n",
        "    cleaned_tokens = [\n",
        "        lemmatizer.lemmatize(token)\n",
        "        for token in tokens\n",
        "        if token not in stop_words\n",
        "    ]\n",
        "    cleaned_review = ' '.join(cleaned_tokens)\n",
        "\n",
        "    # Predict\n",
        "    prediction = best_model.predict([cleaned_review])[0]\n",
        "\n",
        "    return label_encoder.inverse_transform([prediction])[0]\n",
        "\n",
        "# Predict Sentiment for a Sample Review\n",
        "# Select the best model\n",
        "# Predict Sentiment for a Sample Review\n",
        "# Select the best model\n",
        "best_model_name = max(model_results, key=lambda x: model_results[x]['accuracy'])\n",
        "best_model = model_results[best_model_name]['model']\n"
      ]
    },
    {
      "cell_type": "code",
      "execution_count": 21,
      "id": "12373aaa-b4d3-4cfb-a855-18b48f46afce",
      "metadata": {
        "colab": {
          "base_uri": "https://localhost:8080/"
        },
        "id": "12373aaa-b4d3-4cfb-a855-18b48f46afce",
        "outputId": "b484602b-745d-49d7-e88b-b66342832929"
      },
      "outputs": [
        {
          "name": "stdout",
          "output_type": "stream",
          "text": [
            "\n",
            "Sentiment Predictions:\n",
            "\n",
            "Review: This movie was absolutely fantastic and incredibly entertaining!\n",
            "Predicted Sentiment: positive\n",
            "\n",
            "Review: The film was terrible and a complete waste of time.\n",
            "Predicted Sentiment: negative\n"
          ]
        }
      ],
      "source": [
        "# Sample reviews\n",
        "sample_reviews = [\n",
        "    \"This movie was absolutely fantastic and incredibly entertaining!\",\n",
        "    \"The film was terrible and a complete waste of time.\",\n",
        "]\n",
        "\n",
        "# Predict and print sentiments\n",
        "print(\"\\nSentiment Predictions:\")\n",
        "for review in sample_reviews:\n",
        "    predicted_sentiment = predict_sentiment(review, best_model, label_encoder)\n",
        "    print(f\"\\nReview: {review}\")\n",
        "    print(f\"Predicted Sentiment: {predicted_sentiment}\")"
      ]
    },
    {
      "cell_type": "code",
      "execution_count": 22,
      "id": "dfBrdnzB2aeO",
      "metadata": {
        "id": "dfBrdnzB2aeO"
      },
      "outputs": [],
      "source": [
        "import pickle\n",
        "\n",
        "with open('best_model.pkl', 'wb') as f:\n",
        "    pickle.dump(best_model, f)\n",
        "\n",
        "with open('label_encoder.pkl', 'wb') as f:\n",
        "    pickle.dump(label_encoder, f)"
      ]
    },
    {
      "cell_type": "code",
      "execution_count": null,
      "id": "JehrCaBd2pGI",
      "metadata": {
        "colab": {
          "base_uri": "https://localhost:8080/"
        },
        "id": "JehrCaBd2pGI",
        "outputId": "6f0cf6c1-aeb6-482c-d2a0-1112e1985585"
      },
      "outputs": [
        {
          "name": "stderr",
          "output_type": "stream",
          "text": [
            "2025-04-21 05:39:42.628 WARNING streamlit.runtime.scriptrunner_utils.script_run_context: Thread 'MainThread': missing ScriptRunContext! This warning can be ignored when running in bare mode.\n",
            "2025-04-21 05:39:43.064 \n",
            "  \u001b[33m\u001b[1mWarning:\u001b[0m to view this Streamlit app on a browser, run it with the following\n",
            "  command:\n",
            "\n",
            "    streamlit run /usr/local/lib/python3.11/dist-packages/colab_kernel_launcher.py [ARGUMENTS]\n",
            "2025-04-21 05:39:43.073 Thread 'MainThread': missing ScriptRunContext! This warning can be ignored when running in bare mode.\n",
            "2025-04-21 05:39:43.077 Thread 'MainThread': missing ScriptRunContext! This warning can be ignored when running in bare mode.\n",
            "2025-04-21 05:39:43.087 Thread 'MainThread': missing ScriptRunContext! This warning can be ignored when running in bare mode.\n",
            "2025-04-21 05:39:43.089 Thread 'MainThread': missing ScriptRunContext! This warning can be ignored when running in bare mode.\n",
            "2025-04-21 05:39:43.093 Thread 'MainThread': missing ScriptRunContext! This warning can be ignored when running in bare mode.\n",
            "2025-04-21 05:39:43.096 Session state does not function when running a script without `streamlit run`\n",
            "2025-04-21 05:39:43.097 Thread 'MainThread': missing ScriptRunContext! This warning can be ignored when running in bare mode.\n",
            "2025-04-21 05:39:43.100 Thread 'MainThread': missing ScriptRunContext! This warning can be ignored when running in bare mode.\n",
            "2025-04-21 05:39:43.102 Thread 'MainThread': missing ScriptRunContext! This warning can be ignored when running in bare mode.\n",
            "2025-04-21 05:39:43.106 Thread 'MainThread': missing ScriptRunContext! This warning can be ignored when running in bare mode.\n",
            "2025-04-21 05:39:43.107 Thread 'MainThread': missing ScriptRunContext! This warning can be ignored when running in bare mode.\n",
            "2025-04-21 05:39:43.125 Thread 'MainThread': missing ScriptRunContext! This warning can be ignored when running in bare mode.\n",
            "2025-04-21 05:39:43.129 Thread 'MainThread': missing ScriptRunContext! This warning can be ignored when running in bare mode.\n"
          ]
        }
      ],
      "source": [
        "import streamlit as st\n",
        "import pandas as pd\n",
        "import numpy as np\n",
        "import nltk\n",
        "import re\n",
        "from nltk.corpus import stopwords\n",
        "from nltk.stem import WordNetLemmatizer\n",
        "from sklearn.feature_extraction.text import TfidfVectorizer\n",
        "from sklearn.linear_model import LogisticRegression\n",
        "import pickle\n",
        "\n",
        "# Load your trained model and other necessary objects\n",
        "# Replace 'best_model.pkl' and 'label_encoder.pkl' with your actual file names\n",
        "with open('best_model.pkl', 'rb') as f:\n",
        "    best_model = pickle.load(f)\n",
        "with open('label_encoder.pkl', 'rb') as f:\n",
        "    label_encoder = pickle.load(f)\n",
        "\n",
        "# Preprocessing function\n",
        "def preprocess_reviews(text):\n",
        "    stop_words = set(stopwords.words('english'))\n",
        "    lemmatizer = WordNetLemmatizer()\n",
        "\n",
        "    text = text.lower()\n",
        "    text = re.sub(r'[^a-zA-Z\\s]', '', text)\n",
        "    tokens = text.split()\n",
        "    cleaned_tokens = [\n",
        "        lemmatizer.lemmatize(token)\n",
        "        for token in tokens\n",
        "        if token not in stop_words\n",
        "    ]\n",
        "    cleaned_review = ' '.join(cleaned_tokens)\n",
        "    return cleaned_review\n",
        "\n",
        "# Sentiment prediction function\n",
        "def predict_sentiment(text, model, label_encoder):\n",
        "    prediction = model.predict([text])[0]\n",
        "    return label_encoder.inverse_transform([prediction])[0]\n",
        "\n",
        "# Streamlit UI\n",
        "st.title(\"Movie Review Sentiment Analysis\")\n",
        "\n",
        "user_input = st.text_area(\"Enter your movie review:\")\n",
        "\n",
        "if st.button(\"Predict Sentiment\"):\n",
        "    if user_input:\n",
        "        cleaned_review = preprocess_reviews(user_input)\n",
        "        prediction = predict_sentiment(cleaned_review, best_model, label_encoder)\n",
        "        st.write(f\"Predicted Sentiment: **{prediction}**\")\n",
        "    else:\n",
        "        st.warning(\"Please enter a movie review.\")"
      ]
    },
    {
      "cell_type": "code",
      "execution_count": null,
      "id": "9HMDBb2i20Z4",
      "metadata": {
        "colab": {
          "base_uri": "https://localhost:8080/"
        },
        "id": "9HMDBb2i20Z4",
        "outputId": "bce7f967-ec1c-422f-e21e-e92a65c253ca"
      },
      "outputs": [
        {
          "name": "stdout",
          "output_type": "stream",
          "text": [
            "Collecting streamlit\n",
            "  Downloading streamlit-1.44.1-py3-none-any.whl.metadata (8.9 kB)\n",
            "Requirement already satisfied: altair<6,>=4.0 in /usr/local/lib/python3.11/dist-packages (from streamlit) (5.5.0)\n",
            "Requirement already satisfied: blinker<2,>=1.0.0 in /usr/local/lib/python3.11/dist-packages (from streamlit) (1.9.0)\n",
            "Requirement already satisfied: cachetools<6,>=4.0 in /usr/local/lib/python3.11/dist-packages (from streamlit) (5.5.2)\n",
            "Requirement already satisfied: click<9,>=7.0 in /usr/local/lib/python3.11/dist-packages (from streamlit) (8.1.8)\n",
            "Requirement already satisfied: numpy<3,>=1.23 in /usr/local/lib/python3.11/dist-packages (from streamlit) (2.0.2)\n",
            "Requirement already satisfied: packaging<25,>=20 in /usr/local/lib/python3.11/dist-packages (from streamlit) (24.2)\n",
            "Requirement already satisfied: pandas<3,>=1.4.0 in /usr/local/lib/python3.11/dist-packages (from streamlit) (2.2.2)\n",
            "Requirement already satisfied: pillow<12,>=7.1.0 in /usr/local/lib/python3.11/dist-packages (from streamlit) (11.1.0)\n",
            "Requirement already satisfied: protobuf<6,>=3.20 in /usr/local/lib/python3.11/dist-packages (from streamlit) (5.29.4)\n",
            "Requirement already satisfied: pyarrow>=7.0 in /usr/local/lib/python3.11/dist-packages (from streamlit) (18.1.0)\n",
            "Requirement already satisfied: requests<3,>=2.27 in /usr/local/lib/python3.11/dist-packages (from streamlit) (2.32.3)\n",
            "Requirement already satisfied: tenacity<10,>=8.1.0 in /usr/local/lib/python3.11/dist-packages (from streamlit) (9.1.2)\n",
            "Requirement already satisfied: toml<2,>=0.10.1 in /usr/local/lib/python3.11/dist-packages (from streamlit) (0.10.2)\n",
            "Requirement already satisfied: typing-extensions<5,>=4.4.0 in /usr/local/lib/python3.11/dist-packages (from streamlit) (4.13.2)\n",
            "Collecting watchdog<7,>=2.1.5 (from streamlit)\n",
            "  Downloading watchdog-6.0.0-py3-none-manylinux2014_x86_64.whl.metadata (44 kB)\n",
            "\u001b[2K     \u001b[90m━━━━━━━━━━━━━━━━━━━━━━━━━━━━━━━━━━━━━━━━\u001b[0m \u001b[32m44.3/44.3 kB\u001b[0m \u001b[31m2.9 MB/s\u001b[0m eta \u001b[36m0:00:00\u001b[0m\n",
            "\u001b[?25hRequirement already satisfied: gitpython!=3.1.19,<4,>=3.0.7 in /usr/local/lib/python3.11/dist-packages (from streamlit) (3.1.44)\n",
            "Collecting pydeck<1,>=0.8.0b4 (from streamlit)\n",
            "  Downloading pydeck-0.9.1-py2.py3-none-any.whl.metadata (4.1 kB)\n",
            "Requirement already satisfied: tornado<7,>=6.0.3 in /usr/local/lib/python3.11/dist-packages (from streamlit) (6.4.2)\n",
            "Requirement already satisfied: jinja2 in /usr/local/lib/python3.11/dist-packages (from altair<6,>=4.0->streamlit) (3.1.6)\n",
            "Requirement already satisfied: jsonschema>=3.0 in /usr/local/lib/python3.11/dist-packages (from altair<6,>=4.0->streamlit) (4.23.0)\n",
            "Requirement already satisfied: narwhals>=1.14.2 in /usr/local/lib/python3.11/dist-packages (from altair<6,>=4.0->streamlit) (1.35.0)\n",
            "Requirement already satisfied: gitdb<5,>=4.0.1 in /usr/local/lib/python3.11/dist-packages (from gitpython!=3.1.19,<4,>=3.0.7->streamlit) (4.0.12)\n",
            "Requirement already satisfied: python-dateutil>=2.8.2 in /usr/local/lib/python3.11/dist-packages (from pandas<3,>=1.4.0->streamlit) (2.8.2)\n",
            "Requirement already satisfied: pytz>=2020.1 in /usr/local/lib/python3.11/dist-packages (from pandas<3,>=1.4.0->streamlit) (2025.2)\n",
            "Requirement already satisfied: tzdata>=2022.7 in /usr/local/lib/python3.11/dist-packages (from pandas<3,>=1.4.0->streamlit) (2025.2)\n",
            "Requirement already satisfied: charset-normalizer<4,>=2 in /usr/local/lib/python3.11/dist-packages (from requests<3,>=2.27->streamlit) (3.4.1)\n",
            "Requirement already satisfied: idna<4,>=2.5 in /usr/local/lib/python3.11/dist-packages (from requests<3,>=2.27->streamlit) (3.10)\n",
            "Requirement already satisfied: urllib3<3,>=1.21.1 in /usr/local/lib/python3.11/dist-packages (from requests<3,>=2.27->streamlit) (2.3.0)\n",
            "Requirement already satisfied: certifi>=2017.4.17 in /usr/local/lib/python3.11/dist-packages (from requests<3,>=2.27->streamlit) (2025.1.31)\n",
            "Requirement already satisfied: smmap<6,>=3.0.1 in /usr/local/lib/python3.11/dist-packages (from gitdb<5,>=4.0.1->gitpython!=3.1.19,<4,>=3.0.7->streamlit) (5.0.2)\n",
            "Requirement already satisfied: MarkupSafe>=2.0 in /usr/local/lib/python3.11/dist-packages (from jinja2->altair<6,>=4.0->streamlit) (3.0.2)\n",
            "Requirement already satisfied: attrs>=22.2.0 in /usr/local/lib/python3.11/dist-packages (from jsonschema>=3.0->altair<6,>=4.0->streamlit) (25.3.0)\n",
            "Requirement already satisfied: jsonschema-specifications>=2023.03.6 in /usr/local/lib/python3.11/dist-packages (from jsonschema>=3.0->altair<6,>=4.0->streamlit) (2024.10.1)\n",
            "Requirement already satisfied: referencing>=0.28.4 in /usr/local/lib/python3.11/dist-packages (from jsonschema>=3.0->altair<6,>=4.0->streamlit) (0.36.2)\n",
            "Requirement already satisfied: rpds-py>=0.7.1 in /usr/local/lib/python3.11/dist-packages (from jsonschema>=3.0->altair<6,>=4.0->streamlit) (0.24.0)\n",
            "Requirement already satisfied: six>=1.5 in /usr/local/lib/python3.11/dist-packages (from python-dateutil>=2.8.2->pandas<3,>=1.4.0->streamlit) (1.17.0)\n",
            "Downloading streamlit-1.44.1-py3-none-any.whl (9.8 MB)\n",
            "\u001b[2K   \u001b[90m━━━━━━━━━━━━━━━━━━━━━━━━━━━━━━━━━━━━━━━━\u001b[0m \u001b[32m9.8/9.8 MB\u001b[0m \u001b[31m62.6 MB/s\u001b[0m eta \u001b[36m0:00:00\u001b[0m\n",
            "\u001b[?25hDownloading pydeck-0.9.1-py2.py3-none-any.whl (6.9 MB)\n",
            "\u001b[2K   \u001b[90m━━━━━━━━━━━━━━━━━━━━━━━━━━━━━━━━━━━━━━━━\u001b[0m \u001b[32m6.9/6.9 MB\u001b[0m \u001b[31m74.2 MB/s\u001b[0m eta \u001b[36m0:00:00\u001b[0m\n",
            "\u001b[?25hDownloading watchdog-6.0.0-py3-none-manylinux2014_x86_64.whl (79 kB)\n",
            "\u001b[2K   \u001b[90m━━━━━━━━━━━━━━━━━━━━━━━━━━━━━━━━━━━━━━━━\u001b[0m \u001b[32m79.1/79.1 kB\u001b[0m \u001b[31m6.3 MB/s\u001b[0m eta \u001b[36m0:00:00\u001b[0m\n",
            "\u001b[?25hInstalling collected packages: watchdog, pydeck, streamlit\n",
            "Successfully installed pydeck-0.9.1 streamlit-1.44.1 watchdog-6.0.0\n"
          ]
        }
      ],
      "source": [
        "!pip install streamlit\n"
      ]
    },
    {
      "cell_type": "code",
      "execution_count": null,
      "id": "_gb08uyP3B_1",
      "metadata": {
        "colab": {
          "base_uri": "https://localhost:8080/"
        },
        "id": "_gb08uyP3B_1",
        "outputId": "4de8b9f5-738f-4b34-d8e4-e3e3538afdeb"
      },
      "outputs": [
        {
          "name": "stdout",
          "output_type": "stream",
          "text": [
            "Usage: streamlit run [OPTIONS] TARGET [ARGS]...\n",
            "Try 'streamlit run --help' for help.\n",
            "\n",
            "Error: Invalid value: File does not exist: app.py\n",
            "\u001b[1G\u001b[0K⠙\u001b[1G\u001b[0K⠹\u001b[1G\u001b[0K⠸\u001b[1G\u001b[0K⠼\u001b[1G\u001b[0K⠴\u001b[1G\u001b[0K⠦\u001b[1G\u001b[0K⠧\u001b[1G\u001b[0K\u001b[1G\u001b[0JNeed to install the following packages:\n",
            "localtunnel@2.0.2\n",
            "Ok to proceed? (y) \u001b[20Gy\n",
            "\n",
            "\u001b[1G\u001b[0K⠙\u001b[1G\u001b[0K⠹\u001b[1G\u001b[0K⠸\u001b[1G\u001b[0K⠼\u001b[1G\u001b[0K⠴\u001b[1G\u001b[0K⠦\u001b[1G\u001b[0K⠧\u001b[1G\u001b[0K⠇\u001b[1G\u001b[0K⠏\u001b[1G\u001b[0K⠋\u001b[1G\u001b[0K⠙\u001b[1G\u001b[0K⠹\u001b[1G\u001b[0K⠸\u001b[1G\u001b[0K⠼\u001b[1G\u001b[0K⠴\u001b[1G\u001b[0K⠦\u001b[1G\u001b[0K⠧\u001b[1G\u001b[0K⠇\u001b[1G\u001b[0K⠏\u001b[1G\u001b[0K⠋\u001b[1G\u001b[0K⠙\u001b[1G\u001b[0K⠹\u001b[1G\u001b[0K⠸\u001b[1G\u001b[0K⠼\u001b[1G\u001b[0Kyour url is: https://grumpy-coats-wonder.loca.lt\n"
          ]
        }
      ],
      "source": [
        "!streamlit run app.py & npx localtunnel --port 8501"
      ]
    }
  ],
  "metadata": {
    "colab": {
      "provenance": []
    },
    "kernelspec": {
      "display_name": "Python 3",
      "language": "python",
      "name": "python3"
    },
    "language_info": {
      "codemirror_mode": {
        "name": "ipython",
        "version": 3
      },
      "file_extension": ".py",
      "mimetype": "text/x-python",
      "name": "python",
      "nbconvert_exporter": "python",
      "pygments_lexer": "ipython3",
      "version": "3.13.0"
    }
  },
  "nbformat": 4,
  "nbformat_minor": 5
}
